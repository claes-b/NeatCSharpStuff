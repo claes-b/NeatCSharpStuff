{
 "cells": [
  {
   "cell_type": "markdown",
   "metadata": {},
   "source": [
    "# Pattern matching\n",
    "https://docs.microsoft.com/en-us/dotnet/csharp/fundamentals/functional/pattern-matching\n",
    "https://docs.microsoft.com/en-us/dotnet/csharp/language-reference/operators/patterns#relational-patterns\n",
    "\n",
    "## Declaration and type patterns\n",
    "Declaration and type patterns are used to check if a variable is compatible with a certain type. With declaration pattern you can also declare a new local variable.\n",
    "\n",
    "### Null checks\n",
    "\n",
    "Declaration pattern only ever returns true if the expression is **not null**.  This example checks i for null AND converts it to underlying non-nullable `int` number. This is a declaration pattern."
   ]
  },
  {
   "cell_type": "code",
   "execution_count": null,
   "metadata": {
    "dotnet_interactive": {
     "language": "csharp"
    }
   },
   "outputs": [
    {
     "name": "stdout",
     "output_type": "stream",
     "text": [
      "I converted nullable int i to it's underlying non-nullable int number: 5\r\n"
     ]
    }
   ],
   "source": [
    "int? i = 5;\n",
    "if (i is int number)\n",
    "    Console.WriteLine($\"I converted nullable int i to it's underlying non-nullable int number: {number}\");\n",
    "else\n",
    "    Console.WriteLine(\"i is null\");\n"
   ]
  },
  {
   "cell_type": "markdown",
   "metadata": {},
   "source": [
    "This next example takes a boxed `string` and converts it back into a `string` if it is compatible."
   ]
  },
  {
   "cell_type": "code",
   "execution_count": null,
   "metadata": {
    "dotnet_interactive": {
     "language": "csharp"
    }
   },
   "outputs": [
    {
     "name": "stdout",
     "output_type": "stream",
     "text": [
      "Test\r\n"
     ]
    }
   ],
   "source": [
    "object o = \"Test\";\n",
    "if (o is string s) Console.WriteLine(s);"
   ]
  },
  {
   "cell_type": "markdown",
   "metadata": {},
   "source": [
    "### Type tests\n",
    "\n",
    "Pattern matching can check if a variable matches a given type. This example tests if the variable implements the `IList<T>` interface. It also (which is always true for pattern matching) checks for null."
   ]
  },
  {
   "cell_type": "code",
   "execution_count": null,
   "metadata": {
    "dotnet_interactive": {
     "language": "csharp"
    }
   },
   "outputs": [
    {
     "name": "stdout",
     "output_type": "stream",
     "text": [
      "Finding midpoint for ILists\r\n",
      "Two\r\n"
     ]
    }
   ],
   "source": [
    "public static T MidPoint<T>(IEnumerable<T> sequence)\n",
    "{\n",
    "    if (sequence is IList<T> list) // Check for null, check if matches IList<T> and assign to new variable ´list´\n",
    "    {\n",
    "        Console.WriteLine(\"Finding midpoint for ILists\");\n",
    "        return list[list.Count / 2];\n",
    "    }\n",
    "    else if (sequence is null)\n",
    "    {\n",
    "        throw new ArgumentNullException(nameof(sequence), \"Sequence cannot be null\");\n",
    "    }\n",
    "    else \n",
    "    {\n",
    "        Console.WriteLine(\"Finding midpoint for IEnumerables\");\n",
    "        int halfLength = sequence.Count() / 2 - 1;\n",
    "        if (halfLength < 0) halfLength = 0;\n",
    "        return sequence.Skip(halfLength).First();\n",
    "    }\n",
    "}\n",
    "\n",
    "var l = new List<string>() { \"One\", \"Two\", \"Three\" };\n",
    "Console.WriteLine(MidPoint<string>(l));\n"
   ]
  },
  {
   "cell_type": "markdown",
   "metadata": {},
   "source": [
    "A type check isn't just true when the type matches but also when the type derives from T or implements T or another implicit reference conversion exists from it to T.\n",
    "This is demonstrated below:"
   ]
  },
  {
   "cell_type": "code",
   "execution_count": null,
   "metadata": {
    "dotnet_interactive": {
     "language": "csharp"
    }
   },
   "outputs": [
    {
     "name": "stdout",
     "output_type": "stream",
     "text": [
      "Array\r\n",
      "Collection\r\n"
     ]
    }
   ],
   "source": [
    "var numbers = new int[] { 1, 2, 3, 4 };\n",
    "Console.WriteLine(GetTypeLabel(numbers));\n",
    "var chars = new List<char> { 'a', 'b', 'c' };\n",
    "Console.WriteLine(GetTypeLabel(chars));\n",
    "\n",
    "private static string GetTypeLabel<T>(IEnumerable<T> source) => source switch {\n",
    "    Array array => $\"{array.ToString()} is an Array\",\n",
    "    ICollection<T> collection => $\"{collection.ToString()} is a Collection\",\n",
    "    _ => \"Something else\"\n",
    "};"
   ]
  },
  {
   "cell_type": "markdown",
   "metadata": {},
   "source": [
    "If you only want to check a variables type and dont need the declaration part you can use a discard in place of the new declaration name. Since C# 9 you can also completely omit the declaration name. You can see the differnece with `Car` and `Truck` in this example."
   ]
  },
  {
   "cell_type": "code",
   "execution_count": null,
   "metadata": {
    "dotnet_interactive": {
     "language": "csharp"
    }
   },
   "outputs": [
    {
     "name": "stdout",
     "output_type": "stream",
     "text": [
      "0,5\r\n"
     ]
    }
   ],
   "source": [
    "private abstract class Vehicle {}\n",
    "private class Car : Vehicle {}\n",
    "private class Truck : Vehicle {}\n",
    "private double CalculateToll(Vehicle v) => v switch\n",
    "{\n",
    "    Car _ => 0.5d,\n",
    "    Truck => 0.7d,\n",
    "    null => 1000d,\n",
    "    _ => 9999d\n",
    "};\n",
    "Console.WriteLine(CalculateToll(new Car()));"
   ]
  },
  {
   "cell_type": "markdown",
   "metadata": {},
   "source": [
    "## Constant pattern\n",
    "\n",
    "You can also test a variable to find a match on specific values. The following code shows one example where you test a value against all possible values declared in an enumeration, although of course any constant expression is fine to use, suchs as `char` or `string` literals, `integers` or `floating-point` numericals, `bool`, `const` field or local, or null values. The next example is constant pattern using `not` which is a logical pattern matching negated patterns. This is great for types that overload the `==` operator."
   ]
  },
  {
   "cell_type": "code",
   "execution_count": null,
   "metadata": {
    "dotnet_interactive": {
     "language": "csharp"
    }
   },
   "outputs": [
    {
     "name": "stdout",
     "output_type": "stream",
     "text": [
      "s is Maybe I'm null\r\n"
     ]
    }
   ],
   "source": [
    "string? s = \"Maybe I'm null\";\n",
    "if (s is not null)\n",
    "    Console.WriteLine($\"s is {s}\");"
   ]
  },
  {
   "cell_type": "markdown",
   "metadata": {},
   "source": [
    "And here is another constant pattern example using enums."
   ]
  },
  {
   "cell_type": "code",
   "execution_count": null,
   "metadata": {
    "dotnet_interactive": {
     "language": "csharp"
    }
   },
   "outputs": [
    {
     "name": "stdout",
     "output_type": "stream",
     "text": [
      "System is running\r\n"
     ]
    }
   ],
   "source": [
    "private enum Status\n",
    "{\n",
    "    Starting,\n",
    "    Running,\n",
    "    Stopping,\n",
    "    Stopped\n",
    "}\n",
    "var e = Status.Running;\n",
    "private string CheckStaus(Status s) => s switch\n",
    "{\n",
    "    Status.Starting => \"System is starting up\",\n",
    "    Status.Running => \"System is running\",\n",
    "    Status.Stopping => \"System is shutting down\",\n",
    "    Status.Stopped => \"System is stopped\",\n",
    "    _ => \"Invalid status\"\n",
    "};\n",
    "\n",
    "Console.WriteLine(CheckStaus(e));"
   ]
  },
  {
   "cell_type": "markdown",
   "metadata": {},
   "source": [
    "## Relational patterns\n",
    "You can compare values to constants using relational patterns. This code also shows the conjunctive `and` logical pattern. This combines two or more relational patterns to match. You can also use a disjunctive `or` pattern to check if either match. The parenthesis are only for clarity."
   ]
  },
  {
   "cell_type": "code",
   "execution_count": null,
   "metadata": {
    "dotnet_interactive": {
     "language": "csharp"
    }
   },
   "outputs": [
    {
     "name": "stdout",
     "output_type": "stream",
     "text": [
      "liquid\r\n",
      "solid\r\n",
      "solid/liquid transition\r\n"
     ]
    }
   ],
   "source": [
    "string State(int temperature) => temperature switch\n",
    "{\n",
    "    (> 0) and (< 100) => \"liquid\",\n",
    "    < 0 => \"solid\",\n",
    "    > 100 => \"gas\",\n",
    "    0 => \"solid/liquid transition\",\n",
    "    100 => \"liquid/gas transition\" \n",
    "};\n",
    "Console.WriteLine(State(10));\n",
    "Console.WriteLine(State(-1));\n",
    "Console.WriteLine(State(0));"
   ]
  },
  {
   "cell_type": "markdown",
   "metadata": {},
   "source": [
    "### Multiple inputs\n",
    "You don't have to limit yourself to checking one value or property, you can check many too!"
   ]
  },
  {
   "cell_type": "code",
   "execution_count": null,
   "metadata": {
    "dotnet_interactive": {
     "language": "csharp"
    }
   },
   "outputs": [
    {
     "name": "stdout",
     "output_type": "stream",
     "text": [
      "liquid\r\n",
      "gas\r\n",
      "liquid\r\n",
      "solid\r\n"
     ]
    }
   ],
   "source": [
    "private record Temperature(int Degrees, string Type);\n",
    "private string State(Temperature t) =>\n",
    "t switch\n",
    "{\n",
    "    (Degrees: (>= 0) and (< 100), Type: \"celsius\") or (Degrees: (>= 32) and (< 212), Type: \"faherenheit\") => \"liquid\",\n",
    "    (Degrees: < 0, Type: \"celsius\") or (Degrees: < 32, Type: \"faherenheit\") => \"solid\",\n",
    "    (Degrees: > 100, Type: \"celsius\") or (Degrees: > 212, Type: \"faherenheit\") => \"gas\",\n",
    "    _ => \"I only know celsius and faherenheit\"\n",
    "};\n",
    "Console.WriteLine(State(new Temperature(2, \"celsius\")));\n",
    "Console.WriteLine(State(new Temperature(213, \"faherenheit\")));\n",
    "Console.WriteLine(State(new Temperature(19, \"celsius\")));\n",
    "Console.WriteLine(State(new Temperature(19, \"faherenheit\")));\n"
   ]
  },
  {
   "cell_type": "markdown",
   "metadata": {},
   "source": [
    "## Positional pattern\n",
    "\n",
    "A record type has a deconstruct method and doesn't have to be used with property names, this is called positional pattern."
   ]
  },
  {
   "cell_type": "code",
   "execution_count": null,
   "metadata": {
    "dotnet_interactive": {
     "language": "csharp"
    }
   },
   "outputs": [
    {
     "name": "stdout",
     "output_type": "stream",
     "text": [
      "liquid\r\n",
      "gas\r\n",
      "liquid\r\n",
      "solid\r\n"
     ]
    }
   ],
   "source": [
    "private record Temperature(int Degrees, string Type);\n",
    "private string State(Temperature t) =>\n",
    "t switch\n",
    "{\n",
    "    ((>= 0) and (< 100), \"celsius\") or ((>= 32) and (< 212), \"faherenheit\") => \"liquid\",\n",
    "    (< 0, \"celsius\") or (< 32, \"faherenheit\") => \"solid\",\n",
    "    (> 100, \"celsius\") or (> 212, \"faherenheit\") => \"gas\",\n",
    "    _ => \"I only know celsius and faherenheit\"\n",
    "};\n",
    "Console.WriteLine(State(new Temperature(2, \"celsius\")));\n",
    "Console.WriteLine(State(new Temperature(213, \"faherenheit\")));\n",
    "Console.WriteLine(State(new Temperature(19, \"celsius\")));\n",
    "Console.WriteLine(State(new Temperature(19, \"faherenheit\")));"
   ]
  },
  {
   "cell_type": "markdown",
   "metadata": {},
   "source": [
    "## Property pattern\n",
    "\n",
    "You can use this pattern to match an expressions properties or fields against a nested pattern like this:"
   ]
  },
  {
   "cell_type": "code",
   "execution_count": null,
   "metadata": {
    "dotnet_interactive": {
     "language": "csharp"
    }
   },
   "outputs": [
    {
     "name": "stdout",
     "output_type": "stream",
     "text": [
      "False\r\n"
     ]
    }
   ],
   "source": [
    "static bool IsDotnetConf(DateTime date) => date is { Year: 2021, Month: 11, Day: 19 or 20 or 21 };\n",
    "Console.WriteLine(IsDotnetConf(DateTime.Now));"
   ]
  },
  {
   "cell_type": "markdown",
   "metadata": {},
   "source": [
    "You can also combine property pattern type check and add a variable declaration to do something like this:"
   ]
  },
  {
   "cell_type": "code",
   "execution_count": null,
   "metadata": {
    "dotnet_interactive": {
     "language": "csharp"
    }
   },
   "outputs": [
    {
     "name": "stdout",
     "output_type": "stream",
     "text": [
      "hejsa\r\n",
      "12345\r\n"
     ]
    }
   ],
   "source": [
    "static object TakeFive(object input, int n) => input switch\n",
    "{\n",
    "    string { Length: >= 5 } s => s.Substring(0, 5),\n",
    "    string s => s,\n",
    "\n",
    "    ICollection<char> { Count: >= 5 } symbols => symbols.Take(5).ToArray(),\n",
    "    ICollection<char> symbols => symbols.ToArray(),\n",
    "\n",
    "    null => throw new ArgumentNullException(nameof(input)),\n",
    "    _ => throw new ArgumentException(\"Not supported input type.\"),\n",
    "};\n",
    "Console.WriteLine(TakeFive(\"hejsan\", 4));\n",
    "Console.WriteLine(TakeFive(new[] { '1', '2', '3', '4', '5', '6' }));\n"
   ]
  },
  {
   "cell_type": "markdown",
   "metadata": {},
   "source": [
    "Property patterns are recursive, meaning you can nest any pattern you need to match parts of data. Like this:"
   ]
  },
  {
   "cell_type": "code",
   "execution_count": null,
   "metadata": {
    "dotnet_interactive": {
     "language": "csharp"
    }
   },
   "outputs": [
    {
     "name": "stdout",
     "output_type": "stream",
     "text": [
      "True\r\n",
      "False\r\n"
     ]
    }
   ],
   "source": [
    "public record Coordinate(int X, int Y);\n",
    "public record Line(Coordinate Start, Coordinate End);\n",
    "\n",
    "static bool IsAnyEndOnXAxis(Line segment) =>\n",
    "    segment is { Start: { Y: 0 } } or { End: { Y: 0 } };\n",
    "\n",
    "// In C# 10 this can be refactored to:\n",
    "static bool IsAnyEndOnXAxis10(Line segment) =>\n",
    "    segment is { Start.Y: 0  } or { End.Y: 0  };\n",
    "\n",
    "Console.WriteLine(IsAnyEndOnXAxis(new Line(new Coordinate(10, 15), new Coordinate(2,0))));\n",
    "Console.WriteLine(IsAnyEndOnXAxis10(new Line(new Coordinate(10, 15), new Coordinate(2,10))));"
   ]
  },
  {
   "cell_type": "markdown",
   "metadata": {},
   "source": [
    "## Positional pattern\n",
    "A positional pattern is like a property pattern but the properties are found thanks to a deconstructor instead of property names."
   ]
  },
  {
   "cell_type": "code",
   "execution_count": null,
   "metadata": {
    "dotnet_interactive": {
     "language": "csharp"
    }
   },
   "outputs": [
    {
     "name": "stdout",
     "output_type": "stream",
     "text": [
      "Positive X\r\n",
      "Positive Y\r\n"
     ]
    }
   ],
   "source": [
    "public readonly struct Coordinate\n",
    "{\n",
    "    public int X { get; }\n",
    "    public int Y { get; }\n",
    "    public Coordinate(int x, int y) => (X, Y) = (x, y);\n",
    "    public void Deconstruct(out int x, out int y) => (x, y) = (X, Y);\n",
    "}\n",
    "\n",
    "static string Classify(Coordinate c) => c switch\n",
    "{\n",
    "    (0, 0) => \"Origin\",\n",
    "    (_, >0) => \"Positive Y\",\n",
    "    (>0, _) => \"Positive X\",\n",
    "    _ => \"Something else\"\n",
    "};\n",
    "Console.WriteLine(Classify(new Coordinate(2, -5)));\n",
    "Console.WriteLine(Classify(new Coordinate(-8, 10)));"
   ]
  },
  {
   "cell_type": "markdown",
   "metadata": {},
   "source": [
    "Of course, records come with built in deconstructors:"
   ]
  },
  {
   "cell_type": "code",
   "execution_count": null,
   "metadata": {
    "dotnet_interactive": {
     "language": "csharp"
    }
   },
   "outputs": [
    {
     "name": "stdout",
     "output_type": "stream",
     "text": [
      "Positive X\r\n",
      "Positive Y\r\n"
     ]
    }
   ],
   "source": [
    "private record CoordinateRecord(int x, int y);\n",
    "static string Classify(CoordinateRecord c) => c switch\n",
    "{\n",
    "    (0, 0) => \"Origin\",\n",
    "    (_, >0) => \"Positive Y\",\n",
    "    (>0, _) => \"Positive X\",\n",
    "    _ => \"Something else\"\n",
    "};\n",
    "Console.WriteLine(Classify(new CoordinateRecord(2, -5)));\n",
    "Console.WriteLine(Classify(new CoordinateRecord(-8, 10)));"
   ]
  },
  {
   "cell_type": "markdown",
   "metadata": {},
   "source": [
    "Of course you can also combine all of these patterns in pretty rad ways."
   ]
  },
  {
   "cell_type": "code",
   "execution_count": null,
   "metadata": {
    "dotnet_interactive": {
     "language": "csharp"
    }
   },
   "outputs": [],
   "source": [
    "static decimal GetGroupTicketPriceDiscount(int groupSize, DateTime visitDate)\n",
    "    => (groupSize, visitDate.DayOfWeek) switch\n",
    "    {\n",
    "        (<= 0, _) => throw new ArgumentException(\"Group size must be positive.\"),\n",
    "        (_, DayOfWeek.Saturday or DayOfWeek.Sunday) => 0.0m,\n",
    "        (>= 5 and < 10, DayOfWeek.Monday) => 20.0m,\n",
    "        (>= 10, DayOfWeek.Monday) => 30.0m,\n",
    "        (>= 5 and < 10, _) => 12.0m,\n",
    "        (>= 10, _) => 15.0m,\n",
    "        _ => 0.0m,\n",
    "    };"
   ]
  },
  {
   "cell_type": "markdown",
   "metadata": {},
   "source": [
    "## Parenthesised pattern\n",
    "You can put parentheses around any pattern."
   ]
  },
  {
   "cell_type": "code",
   "execution_count": null,
   "metadata": {
    "dotnet_interactive": {
     "language": "csharp"
    }
   },
   "outputs": [
    {
     "data": {
      "text/html": [
       "<div class=\"dni-plaintext\">&lt;null&gt;</div>"
      ]
     },
     "metadata": {},
     "output_type": "display_data"
    }
   ],
   "source": [
    "object input =  0;\n",
    "if (input is not (float or double)) return;"
   ]
  },
  {
   "cell_type": "markdown",
   "metadata": {},
   "source": [
    "## `var` Pattern\n",
    "With the ´var´ pattern you can match any expression, including ´null´ as well as assign it's value to a new local variable. The varn pattern is useful when you hold results of intermediate calculations, like Data() in the example below."
   ]
  },
  {
   "cell_type": "code",
   "execution_count": null,
   "metadata": {
    "dotnet_interactive": {
     "language": "csharp"
    }
   },
   "outputs": [
    {
     "name": "stdout",
     "output_type": "stream",
     "text": [
      "True\r\n"
     ]
    }
   ],
   "source": [
    "static List<int> Data() => Enumerable.Range(0, 5).Select(d => new Random().Next(1,10)).ToList<int>();\n",
    "static bool IsValid() =>\n",
    "    Data() is var d\n",
    "    && d.Max() < 10\n",
    "    && d.Max() > 0;\n",
    "Console.WriteLine(IsValid());"
   ]
  },
  {
   "cell_type": "markdown",
   "metadata": {},
   "source": [
    "You can also use a ´var´ pattern to do additional checks in a ´when´ case guard of a ´switch´ expression or statement. Like this:"
   ]
  },
  {
   "cell_type": "code",
   "execution_count": null,
   "metadata": {
    "dotnet_interactive": {
     "language": "csharp"
    }
   },
   "outputs": [
    {
     "name": "stdout",
     "output_type": "stream",
     "text": [
      "Point { X = -1, Y = 2 }\r\n",
      "Point { X = 5, Y = -2 }\r\n"
     ]
    }
   ],
   "source": [
    "public record Point(int X, int Y);\n",
    "static Point Transform(Point point) => point switch\n",
    "{\n",
    "    var (x, y) when x < y => new Point(-x, y),\n",
    "    var (x, y) when x > y => new Point(x, -y),\n",
    "    var (x, y) => new Point(x, y),\n",
    "};\n",
    "Console.WriteLine(Transform(new Point(1, 2)));\n",
    "Console.WriteLine(Transform(new Point(5, 2)));"
   ]
  },
  {
   "cell_type": "markdown",
   "metadata": {},
   "source": [
    "Or, from an example above...:"
   ]
  },
  {
   "cell_type": "code",
   "execution_count": null,
   "metadata": {
    "dotnet_interactive": {
     "language": "csharp"
    }
   },
   "outputs": [
    {
     "ename": "Error",
     "evalue": "(5,16): error CS1002: ; expected\r\n(5,25): error CS1003: Syntax error, '(' expected\r\n(5,25): error CS1001: Identifier expected\r\n(5,31): error CS1001: Identifier expected\r\n(5,31): error CS1026: ) expected",
     "output_type": "error",
     "traceback": [
      "(5,16): error CS1002: ; expected\r\n",
      "(5,25): error CS1003: Syntax error, '(' expected\r\n",
      "(5,25): error CS1001: Identifier expected\r\n",
      "(5,31): error CS1001: Identifier expected\r\n",
      "(5,31): error CS1026: ) expected"
     ]
    }
   ],
   "source": [
    "public record Coordinate(int X, int Y);\n",
    "public record Line(Coordinate Start, Coordinate End);\n",
    "\n",
    "static bool IsHorizontal(Line segment) =>\n",
    "    var (s, e) when s.y == e.y;\n",
    "    //segment is { Start: { Y: 0 } } or { End: { Y: 0 } };\n",
    "\n",
    "Console.WriteLine(IsHorizontal(new Line(new Coordinate(10, 15), new Coordinate(2,0))));\n",
    "Console.WriteLine(IsHorizontal(new Line(new Coordinate(10, 15), new Coordinate(2,10))));"
   ]
  }
 ],
 "metadata": {
  "kernelspec": {
   "display_name": ".NET (C#)",
   "language": "C#",
   "name": ".net-csharp"
  },
  "language_info": {
   "name": "C#"
  }
 },
 "nbformat": 4,
 "nbformat_minor": 2
}
