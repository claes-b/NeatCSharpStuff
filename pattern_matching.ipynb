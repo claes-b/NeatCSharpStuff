{
 "cells": [
  {
   "cell_type": "markdown",
   "metadata": {},
   "source": [
    "# Neat C# features\n",
    "\n",
    "## Null checks\n",
    "\n",
    "This example checks i for null AND converts it to underlying non-nullable `int` number. This is a declaration pattern."
   ]
  },
  {
   "cell_type": "code",
   "execution_count": null,
   "metadata": {
    "dotnet_interactive": {
     "language": "csharp"
    }
   },
   "outputs": [
    {
     "name": "stdout",
     "output_type": "stream",
     "text": [
      "I converted nullable int i to it's underlying non-nullable int number: 5\r\n"
     ]
    }
   ],
   "source": [
    "int? i = 5;\n",
    "if (i is int number)\n",
    "    Console.WriteLine($\"I converted nullable int i to it's underlying non-nullable int number: {number}\");\n",
    "else\n",
    "    Console.WriteLine(\"i is null\");\n"
   ]
  },
  {
   "cell_type": "markdown",
   "metadata": {},
   "source": [
    "The next example is constant pattern using `not` which is a logical pattern matching negated patterns. This is great for types that overload the `==` operator."
   ]
  },
  {
   "cell_type": "code",
   "execution_count": null,
   "metadata": {
    "dotnet_interactive": {
     "language": "csharp"
    }
   },
   "outputs": [
    {
     "name": "stdout",
     "output_type": "stream",
     "text": [
      "s is Maybe I'm null\r\n"
     ]
    }
   ],
   "source": [
    "string? s = \"Maybe I'm null\";\n",
    "if (s is not null)\n",
    "    Console.WriteLine($\"s is {s}\");"
   ]
  },
  {
   "cell_type": "markdown",
   "metadata": {},
   "source": [
    "## Type tests\n",
    "\n",
    "Pattern matching can check if a variable matches a given type. This example tests if the variable implements the `IList<T>` interface. It also (which is always true for pattern matching) checks for null."
   ]
  },
  {
   "cell_type": "code",
   "execution_count": null,
   "metadata": {
    "dotnet_interactive": {
     "language": "csharp"
    }
   },
   "outputs": [
    {
     "name": "stdout",
     "output_type": "stream",
     "text": [
      "Finding midpoint for ILists\r\n",
      "Two\r\n"
     ]
    }
   ],
   "source": [
    "public static T MidPoint<T>(IEnumerable<T> sequence)\n",
    "{\n",
    "    if (sequence is IList<T> list) // Check for null, check if matches IList<T> and assign to new variable ´list´\n",
    "    {\n",
    "        Console.WriteLine(\"Finding midpoint for ILists\");\n",
    "        return list[list.Count / 2];\n",
    "    }\n",
    "    else if (sequence is null)\n",
    "    {\n",
    "        throw new ArgumentNullException(nameof(sequence), \"Sequence cannot be null\");\n",
    "    }\n",
    "    else \n",
    "    {\n",
    "        Console.WriteLine(\"Finding midpoint for IEnumerables\");\n",
    "        int halfLength = sequence.Count() / 2 - 1;\n",
    "        if (halfLength < 0) halfLength = 0;\n",
    "        return sequence.Skip(halfLength).First();\n",
    "    }\n",
    "}\n",
    "\n",
    "var l = new List<string>() { \"One\", \"Two\", \"Three\" };\n",
    "Console.WriteLine(MidPoint<string>(l));\n"
   ]
  },
  {
   "cell_type": "markdown",
   "metadata": {},
   "source": [
    "## Compare discrete values\n",
    "You can also test a variable to find a match on specific values. The following code shows one example where you test a value against all possible values declared in an enumeration."
   ]
  },
  {
   "cell_type": "code",
   "execution_count": null,
   "metadata": {
    "dotnet_interactive": {
     "language": "csharp"
    }
   },
   "outputs": [
    {
     "ename": "Error",
     "evalue": "(15,10): error CS0029: Cannot implicitly convert type '<throw expression>' to 'void'",
     "output_type": "error",
     "traceback": [
      "(15,10): error CS0029: Cannot implicitly convert type '<throw expression>' to 'void'"
     ]
    }
   ],
   "source": [
    "private enum Status\n",
    "{\n",
    "    Starting,\n",
    "    Running,\n",
    "    Stopping,\n",
    "    Stopped\n",
    "}\n",
    "var e = Status.Running;\n",
    "private string CheckStaus(Status s)\n",
    "{\n",
    "    return s switch\n",
    "    {\n",
    "        Status.Starting => \"System is starting up\",\n",
    "        Status.Running => \"System is running\",\n",
    "        Status.Stopping => \"System is shutting down\",\n",
    "        Status.Stopped => \"System is stopped\",\n",
    "        _ => \"Invalid status\"\n",
    "    };\n",
    "}"
   ]
  }
 ],
 "metadata": {
  "kernelspec": {
   "display_name": ".NET (C#)",
   "language": "C#",
   "name": ".net-csharp"
  },
  "language_info": {
   "name": "C#"
  }
 },
 "nbformat": 4,
 "nbformat_minor": 2
}
